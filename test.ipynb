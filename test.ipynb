{
 "cells": [
  {
   "cell_type": "code",
   "execution_count": 45,
   "metadata": {
    "collapsed": true
   },
   "outputs": [],
   "source": [
    "import pandas as pd\n",
    "import csv\n",
    "from bs4 import BeautifulSoup\n",
    "import requests\n",
    "import IPython\n",
    "\n",
    "# adding these modules to slow down crawl-rate\n",
    "# prevents us from being banned\n",
    "from time import time, sleep\n",
    "from random import randint"
   ]
  },
  {
   "cell_type": "code",
   "execution_count": 46,
   "metadata": {
    "collapsed": true
   },
   "outputs": [],
   "source": [
    "product_name = []\n",
    "product_image = []\n",
    "product_short_description = []\n",
    "# brand_name = []\n",
    "# brand_description = []\n",
    "product_href = []"
   ]
  },
  {
   "cell_type": "code",
   "execution_count": 60,
   "metadata": {},
   "outputs": [],
   "source": [
    "# store href to reference\n",
    "\n",
    "pages = [str(i) for i in range(1,2)]\n",
    "\n",
    "for page in pages:\n",
    "    response = requests.get('https://www.leafly.com/products/cannabis/flower?page=' + page)\n",
    "    soup = BeautifulSoup(response.text, 'html.parser')\n",
    "    product_containers = soup.find_all('a',{'class':'item'})\n",
    "\n",
    "    for container in product_containers:\n",
    "        name = container.find('div', class_ = 'product-name').text\n",
    "        product_name.append(name)\n",
    "\n",
    "        image = container.find('img', attrs = {'class':'b-lazy'})['data-src']\n",
    "        product_image.append(image)\n",
    "        \n",
    "        href = container['href']\n",
    "        product_href.append(href)\n",
    "        \n",
    "        product_detail_url = ['https://www.leafly.com' + href]\n",
    "        \n",
    "        for product_url in product_detail_url:\n",
    "            response_detail = requests.get(product_url)\n",
    "            second_soup = BeautifulSoup(response_detail.text, 'html.parser')\n",
    "\"\"\"\n",
    "I'm stuck right here. I'm trying to add the second_soup to a product_detail_container\n",
    "but i'm not able to extract \n",
    "\n",
    "second_soup.find('p',class_=\"product-short-description\") as product_detail_container.find(...)\n",
    "\n",
    "\"\"\"\n",
    "\n",
    "            \n",
    "            \n",
    "#             for product_detail_container in second_soup.find_all():\n",
    "#                 product_detail_sd = product_detail_container.find('p', class_ = \"product-short-description\")\n",
    "\n",
    "#                 for url in product_detail_container:\n",
    "#                     product_detail_sd = url.find('p', class_ = \"product-short-description\")\n",
    "#                     product_short_description.append(product_detail_sd)\n",
    "            \n",
    "\n",
    "\n",
    "# product_description.text\n",
    "# brand_name = first_product_detail.find('p', class_ = 'brand-name').a.text\n",
    "# brand_description = first_product_detail.find('p', class_ = 'brand-description').text\n",
    "# brand_image = first_product_detail.find('img',{'class':'b-lazy'})['data-src']\n",
    "\n",
    "\n",
    "product_detail_df = pd.DataFrame ({\n",
    "    '1 Product Name' : product_name,\n",
    "    '2 Product Image' : product_image,\n",
    "    '3 Href' : product_href,\n",
    "#     '4 Short Description' : product_short_description,\n",
    "#     '5 Product Description' : [product_description.text],\n",
    "#     '6 Brand Name' : [brand_name],\n",
    "#     '7 Brand Description' : [brand_description],\n",
    "})"
   ]
  },
  {
   "cell_type": "code",
   "execution_count": 59,
   "metadata": {},
   "outputs": [
    {
     "data": {
      "text/plain": [
       "u'\\r\\n                        Purple Trainwreck packs a punch with its quatra cross traits offering sativa fans a spicy citrus and sweet grape taste.\\r\\n                    '"
      ]
     },
     "execution_count": 59,
     "metadata": {},
     "output_type": "execute_result"
    }
   ],
   "source": [
    "second_soup.find('p', class_ = \"product-short-description\").text"
   ]
  }
 ],
 "metadata": {
  "kernelspec": {
   "display_name": "Python 2",
   "language": "python",
   "name": "python2"
  },
  "language_info": {
   "codemirror_mode": {
    "name": "ipython",
    "version": 2
   },
   "file_extension": ".py",
   "mimetype": "text/x-python",
   "name": "python",
   "nbconvert_exporter": "python",
   "pygments_lexer": "ipython2",
   "version": "2.7.14"
  }
 },
 "nbformat": 4,
 "nbformat_minor": 2
}

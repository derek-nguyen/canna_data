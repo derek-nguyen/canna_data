{
 "cells": [
  {
   "cell_type": "code",
   "execution_count": 247,
   "metadata": {},
   "outputs": [],
   "source": [
    "import pandas as pd\n",
    "import csv\n",
    "from bs4 import BeautifulSoup\n",
    "import requests\n",
    "import IPython\n",
    "\n",
    "# adding these modules to slow down crawl-rate\n",
    "# prevents us from being banned\n",
    "from time import time, sleep\n",
    "from random import randint\n",
    "\n",
    "\n",
    "\n",
    "product_name = []\n",
    "product_image = []\n",
    "product_short_description = []\n",
    "product_description = []\n",
    "brand_name = []\n",
    "brand_description = []\n",
    "product_href = []\n",
    "product_detail_path = []\n",
    "\n",
    "pages = [str(i) for i in range(45,46)]\n",
    "\n",
    "for page in pages:\n",
    "    response = requests.get('https://www.leafly.com/products/cannabis/flower?page=' + page)\n",
    "    soup = BeautifulSoup(response.text, 'html.parser')\n",
    "    product_containers = soup.find_all('a',{'class':'item'})\n",
    "    \n",
    "#   pause the loop between 8 - 15 seconds\n",
    "#     sleep(randint(2,5))\n",
    "\n",
    "    for container in product_containers:\n",
    "        name = container.find('div', class_ = 'product-name').text\n",
    "        product_name.append(name)\n",
    "\n",
    "        image = container.find('img', attrs = {'class':'b-lazy'})['data-src']\n",
    "        product_image.append(image)\n",
    "\n",
    "        href = container['href']\n",
    "        product_href.append(href)\n",
    "\n",
    "        product_detail_url = 'https://www.leafly.com' + href\n",
    "        product_detail_path.append(product_detail_url)\n",
    "\n",
    "    for product_url in product_detail_path:\n",
    "        response_detail = requests.get(product_url)\n",
    "        product_detail_soup = BeautifulSoup(response_detail.text, 'html.parser')\n",
    "        product_detail_sd = product_detail_soup.find('p', class_ = \"product-short-description\")\n",
    "        product_short_description.append(product_detail_sd.text.strip())\n",
    "        \n",
    "        product_long_description = product_detail_soup.find('p', class_= \"product-description\")\n",
    "        product_description.append(product_long_description.text)\n",
    "\n",
    "        product_brand_name = product_detail_soup.find('p', class_ = 'brand-name').a.text\n",
    "        brand_name.append(product_brand_name)\n",
    "        \n",
    "        product_brand_description = product_detail_soup.find('p', class_ = 'brand-description').text\n",
    "        brand_description.append(product_brand_description)\n",
    "\n",
    "product_detail_df = pd.DataFrame ({\n",
    "    '1 Product Name' : product_name,\n",
    "    '2 Product Image' : product_image,\n",
    "    '3 Short Description' : product_short_description,\n",
    "    '4 Product Description' : product_description,\n",
    "    '5 Brand Name' : brand_name,\n",
    "    '6 Brand Description' : brand_description,\n",
    "})"
   ]
  },
  {
   "cell_type": "code",
   "execution_count": 248,
   "metadata": {},
   "outputs": [],
   "source": [
    "# product_detail_df.to_csv('cp45.csv', index=False, encoding='utf-8')"
   ]
  },
  {
   "cell_type": "code",
   "execution_count": null,
   "metadata": {
    "collapsed": true
   },
   "outputs": [],
   "source": []
  }
 ],
 "metadata": {
  "kernelspec": {
   "display_name": "Python 2",
   "language": "python",
   "name": "python2"
  },
  "language_info": {
   "codemirror_mode": {
    "name": "ipython",
    "version": 2
   },
   "file_extension": ".py",
   "mimetype": "text/x-python",
   "name": "python",
   "nbconvert_exporter": "python",
   "pygments_lexer": "ipython2",
   "version": "2.7.14"
  }
 },
 "nbformat": 4,
 "nbformat_minor": 2
}

{
 "cells": [
  {
   "cell_type": "code",
   "execution_count": 17,
   "metadata": {
    "collapsed": true
   },
   "outputs": [],
   "source": [
    "import pandas as pd\n",
    "import csv\n",
    "from bs4 import BeautifulSoup\n",
    "import requests\n",
    "import IPython\n",
    "\n",
    "# adding these modules to slow down crawl-rate\n",
    "# prevents us from being banned\n",
    "from time import time, sleep\n",
    "from random import randint"
   ]
  },
  {
   "cell_type": "code",
   "execution_count": 18,
   "metadata": {
    "collapsed": true
   },
   "outputs": [],
   "source": [
    "url = 'https://www.leafly.com/products/cannabis/flower?page=1'\n",
    "brands = requests.get(url)\n",
    "soup = BeautifulSoup(brands.content, 'html.parser')"
   ]
  },
  {
   "cell_type": "code",
   "execution_count": 19,
   "metadata": {
    "collapsed": true
   },
   "outputs": [],
   "source": [
    "product_containers = soup.find_all('a',{'class':'item'})"
   ]
  },
  {
   "cell_type": "code",
   "execution_count": 20,
   "metadata": {},
   "outputs": [
    {
     "data": {
      "text/plain": [
       "<a class=\"item item-col\" gtm-push=\"{'Model.slug': 'true-humboldt-gg', 'Model.name': 'GG (f.k.a. Gorilla Glue)'}\" href=\"/products/details/true-humboldt-gg\">\n",
       "<div class=\"item-thumbnail item-thumbnail-square\">\n",
       "<div class=\"item-thumbnail-centered\">\n",
       "<img alt=\"GG (f.k.a. Gorilla Glue)\" class=\"b-lazy\" data-src=\"https://ddd33q3967xhi.cloudfront.net/Nfnh_JRc3z7X7v57Opcus5EgUOc=/fit-in/300x300/https%3a%2f%2fddd33q3967xhi.cloudfront.net%2fpGNQ4Z1DfWe5NdUiOit0ugS4L10%3d%2ffit-in%2f400x400%2fhttps%253a%252f%252fs3.amazonaws.com%252fleafly-s3%252fproducts%252fphotos%252fRBXwuWRQQtWuQCp6e5LJ_AA-%2bgorilla%2bglue.jpg\" data-srcset=\"https://ddd33q3967xhi.cloudfront.net/Nfnh_JRc3z7X7v57Opcus5EgUOc=/fit-in/300x300/https%3a%2f%2fddd33q3967xhi.cloudfront.net%2fpGNQ4Z1DfWe5NdUiOit0ugS4L10%3d%2ffit-in%2f400x400%2fhttps%253a%252f%252fs3.amazonaws.com%252fleafly-s3%252fproducts%252fphotos%252fRBXwuWRQQtWuQCp6e5LJ_AA-%2bgorilla%2bglue.jpg 300w,\n",
       "                                                                                     https://ddd33q3967xhi.cloudfront.net/DcnVmQmvWCh51IoGXGwIVqxlX14=/fit-in/400x400/https%3a%2f%2fddd33q3967xhi.cloudfront.net%2fpGNQ4Z1DfWe5NdUiOit0ugS4L10%3d%2ffit-in%2f400x400%2fhttps%253a%252f%252fs3.amazonaws.com%252fleafly-s3%252fproducts%252fphotos%252fRBXwuWRQQtWuQCp6e5LJ_AA-%2bgorilla%2bglue.jpg 400w\" sizes=\"(min-width: 1025px) 250px, 50vw\" src=\"/content/images/brands/product-placeholder.svg\">\n",
       "</img></div>\n",
       "</div>\n",
       "<div class=\"item-name\">\n",
       "<div class=\"brand-name\">True Humboldt</div>\n",
       "<div class=\"product-name\">GG (f.k.a. Gorilla Glue)</div>\n",
       "<div class=\"product-rating\">\n",
       "<div class=\"star-rating\"><span class=\"squeeze\" size=\"15\" star-rating=\"4.38461538461539\"></span></div>\n",
       "<div class=\"star-rating-label\">4.4  |  13</div>\n",
       "</div>\n",
       "</div>\n",
       "</a>"
      ]
     },
     "execution_count": 20,
     "metadata": {},
     "output_type": "execute_result"
    }
   ],
   "source": [
    "first_product = product_containers[0]\n",
    "first_product"
   ]
  },
  {
   "cell_type": "code",
   "execution_count": 21,
   "metadata": {},
   "outputs": [
    {
     "data": {
      "text/plain": [
       "'GG (f.k.a. Gorilla Glue)'"
      ]
     },
     "execution_count": 21,
     "metadata": {},
     "output_type": "execute_result"
    }
   ],
   "source": [
    "# product name\n",
    "first_product_name = first_product.find('div', class_ = 'product-name').text\n",
    "first_product_name"
   ]
  },
  {
   "cell_type": "code",
   "execution_count": 32,
   "metadata": {},
   "outputs": [
    {
     "data": {
      "text/plain": [
       "'https://ddd33q3967xhi.cloudfront.net/Nfnh_JRc3z7X7v57Opcus5EgUOc=/fit-in/300x300/https%3a%2f%2fddd33q3967xhi.cloudfront.net%2fpGNQ4Z1DfWe5NdUiOit0ugS4L10%3d%2ffit-in%2f400x400%2fhttps%253a%252f%252fs3.amazonaws.com%252fleafly-s3%252fproducts%252fphotos%252fRBXwuWRQQtWuQCp6e5LJ_AA-%2bgorilla%2bglue.jpg'"
      ]
     },
     "execution_count": 32,
     "metadata": {},
     "output_type": "execute_result"
    }
   ],
   "source": [
    "# product image url\n",
    "\n",
    "first_image = first_product.find('img', attrs = {'class':'b-lazy'})['data-src']\n",
    "first_image"
   ]
  },
  {
   "cell_type": "code",
   "execution_count": 23,
   "metadata": {},
   "outputs": [
    {
     "data": {
      "text/plain": [
       "'True Humboldt'"
      ]
     },
     "execution_count": 23,
     "metadata": {},
     "output_type": "execute_result"
    }
   ],
   "source": [
    "# brand name\n",
    "first_brand = first_product.find('div', class_ = 'brand-name').text\n",
    "first_brand"
   ]
  },
  {
   "cell_type": "code",
   "execution_count": 33,
   "metadata": {
    "collapsed": true,
    "scrolled": true
   },
   "outputs": [],
   "source": [
    "product_name = []\n",
    "product_image = []\n",
    "brand_name = []\n",
    "\n",
    "# scraping multiple pages\n",
    "pages = [str(i) for i in range(1,2)]\n",
    "\n",
    "# controlling crawl-rate\n",
    "start_time = time()\n",
    "requests = 0\n",
    "\n",
    "import requests\n",
    "for page in pages:\n",
    "    \n",
    "    # make a get request\n",
    "    response = requests.get('https://www.leafly.com/products/cannabis/flower?page=' + page)\n",
    "    soup = BeautifulSoup(response.text, 'html.parser')\n",
    "    product_containers = soup.find_all('a',{'class':'item'})\n",
    "    \n",
    "    # pause the loop between 8 - 15 seconds\n",
    "    sleep(randint(2,5))\n",
    "    \n",
    "    # to grab all information of each single product\n",
    "    for container in product_containers:\n",
    "        name = container.find('div', class_ = 'product-name').text\n",
    "        product_name.append(name)\n",
    "\n",
    "        image = container.find('img', attrs = {'class':'b-lazy'})['data-src']\n",
    "        product_image.append(image)\n",
    "\n",
    "        brand = container.find('div', class_ = 'brand-name').text\n",
    "        brand_name.append(brand)"
   ]
  },
  {
   "cell_type": "code",
   "execution_count": 34,
   "metadata": {
    "collapsed": true
   },
   "outputs": [],
   "source": [
    "product_df = pd.DataFrame({ '1 product_name':product_name,\n",
    "                            '2 product_image_links': product_image,\n",
    "                            '3 product_brand': brand_name\n",
    "                          })"
   ]
  },
  {
   "cell_type": "code",
   "execution_count": 35,
   "metadata": {},
   "outputs": [
    {
     "data": {
      "text/html": [
       "<div>\n",
       "<style>\n",
       "    .dataframe thead tr:only-child th {\n",
       "        text-align: right;\n",
       "    }\n",
       "\n",
       "    .dataframe thead th {\n",
       "        text-align: left;\n",
       "    }\n",
       "\n",
       "    .dataframe tbody tr th {\n",
       "        vertical-align: top;\n",
       "    }\n",
       "</style>\n",
       "<table border=\"1\" class=\"dataframe\">\n",
       "  <thead>\n",
       "    <tr style=\"text-align: right;\">\n",
       "      <th></th>\n",
       "      <th>1 product_name</th>\n",
       "      <th>2 product_image_links</th>\n",
       "      <th>3 product_brand</th>\n",
       "    </tr>\n",
       "  </thead>\n",
       "  <tbody>\n",
       "    <tr>\n",
       "      <th>0</th>\n",
       "      <td>GG (f.k.a. Gorilla Glue)</td>\n",
       "      <td>https://ddd33q3967xhi.cloudfront.net/Nfnh_JRc3...</td>\n",
       "      <td>True Humboldt</td>\n",
       "    </tr>\n",
       "    <tr>\n",
       "      <th>1</th>\n",
       "      <td>GG5 (fka Gorilla Glue 5) / New Glue</td>\n",
       "      <td>https://ddd33q3967xhi.cloudfront.net/YGZhU3fiL...</td>\n",
       "      <td>GG Strains LLC</td>\n",
       "    </tr>\n",
       "    <tr>\n",
       "      <th>2</th>\n",
       "      <td>Marley Black™: Indica</td>\n",
       "      <td>https://ddd33q3967xhi.cloudfront.net/1P0dBR0vw...</td>\n",
       "      <td>Marley Natural</td>\n",
       "    </tr>\n",
       "    <tr>\n",
       "      <th>3</th>\n",
       "      <td>Dutchy Flower</td>\n",
       "      <td>https://ddd33q3967xhi.cloudfront.net/zHOnHGVoa...</td>\n",
       "      <td>Dutchy</td>\n",
       "    </tr>\n",
       "    <tr>\n",
       "      <th>4</th>\n",
       "      <td>Cherry Pie</td>\n",
       "      <td>https://ddd33q3967xhi.cloudfront.net/PZVc0TR3s...</td>\n",
       "      <td>7 Points Oregon</td>\n",
       "    </tr>\n",
       "    <tr>\n",
       "      <th>5</th>\n",
       "      <td>Blue Dragon Desert Frost</td>\n",
       "      <td>https://ddd33q3967xhi.cloudfront.net/yjA3O7XPs...</td>\n",
       "      <td>Yerba Buena</td>\n",
       "    </tr>\n",
       "    <tr>\n",
       "      <th>6</th>\n",
       "      <td>OG Kush</td>\n",
       "      <td>https://ddd33q3967xhi.cloudfront.net/OeD0LS5cx...</td>\n",
       "      <td>Pioneer Nuggets</td>\n",
       "    </tr>\n",
       "    <tr>\n",
       "      <th>7</th>\n",
       "      <td>Sherbet</td>\n",
       "      <td>https://ddd33q3967xhi.cloudfront.net/9lWiooG4Q...</td>\n",
       "      <td>Royal Tree Gardens</td>\n",
       "    </tr>\n",
       "    <tr>\n",
       "      <th>8</th>\n",
       "      <td>White Widow</td>\n",
       "      <td>https://ddd33q3967xhi.cloudfront.net/hOjCHpxMG...</td>\n",
       "      <td>Pioneer Nuggets</td>\n",
       "    </tr>\n",
       "    <tr>\n",
       "      <th>9</th>\n",
       "      <td>Chocolope</td>\n",
       "      <td>https://ddd33q3967xhi.cloudfront.net/ZwbdzjhTB...</td>\n",
       "      <td>Royal Tree Gardens</td>\n",
       "    </tr>\n",
       "    <tr>\n",
       "      <th>10</th>\n",
       "      <td>Tahoe OG</td>\n",
       "      <td>https://ddd33q3967xhi.cloudfront.net/ywTOOYqZD...</td>\n",
       "      <td>Flow Kana</td>\n",
       "    </tr>\n",
       "    <tr>\n",
       "      <th>11</th>\n",
       "      <td>GG4 (fka Gorilla Glue #4) / Original Glue</td>\n",
       "      <td>https://ddd33q3967xhi.cloudfront.net/6XfGc3Nt0...</td>\n",
       "      <td>GG Strains LLC</td>\n",
       "    </tr>\n",
       "    <tr>\n",
       "      <th>12</th>\n",
       "      <td>Green Crack</td>\n",
       "      <td>https://ddd33q3967xhi.cloudfront.net/FHz7-MJzx...</td>\n",
       "      <td>Double Dutch Farms</td>\n",
       "    </tr>\n",
       "    <tr>\n",
       "      <th>13</th>\n",
       "      <td>Headlight Flower</td>\n",
       "      <td>https://ddd33q3967xhi.cloudfront.net/57jdp7LXE...</td>\n",
       "      <td>Headlight</td>\n",
       "    </tr>\n",
       "    <tr>\n",
       "      <th>14</th>\n",
       "      <td>Marley Red™: CBD-Rich</td>\n",
       "      <td>https://ddd33q3967xhi.cloudfront.net/oka1MBytG...</td>\n",
       "      <td>Marley Natural</td>\n",
       "    </tr>\n",
       "    <tr>\n",
       "      <th>15</th>\n",
       "      <td>Messiah OG</td>\n",
       "      <td>https://ddd33q3967xhi.cloudfront.net/KH_2x6YO_...</td>\n",
       "      <td>Glory Daze Botanicals</td>\n",
       "    </tr>\n",
       "    <tr>\n",
       "      <th>16</th>\n",
       "      <td>Orange Cookies</td>\n",
       "      <td>https://ddd33q3967xhi.cloudfront.net/1xLLB_ql0...</td>\n",
       "      <td>Subdued Excitement (SUBX)</td>\n",
       "    </tr>\n",
       "    <tr>\n",
       "      <th>17</th>\n",
       "      <td>Premium Flower</td>\n",
       "      <td>https://ddd33q3967xhi.cloudfront.net/PkKObnbtl...</td>\n",
       "      <td>Avitas</td>\n",
       "    </tr>\n",
       "    <tr>\n",
       "      <th>18</th>\n",
       "      <td>Purple Trainwreck</td>\n",
       "      <td>https://ddd33q3967xhi.cloudfront.net/6dHDGE9Hm...</td>\n",
       "      <td>Pioneer Nuggets</td>\n",
       "    </tr>\n",
       "    <tr>\n",
       "      <th>19</th>\n",
       "      <td>SAPPHIRE KUSH</td>\n",
       "      <td>https://ddd33q3967xhi.cloudfront.net/_byLzPR9z...</td>\n",
       "      <td>Northern Emeralds</td>\n",
       "    </tr>\n",
       "  </tbody>\n",
       "</table>\n",
       "</div>"
      ],
      "text/plain": [
       "                               1 product_name  \\\n",
       "0                    GG (f.k.a. Gorilla Glue)   \n",
       "1         GG5 (fka Gorilla Glue 5) / New Glue   \n",
       "2                       Marley Black™: Indica   \n",
       "3                               Dutchy Flower   \n",
       "4                                  Cherry Pie   \n",
       "5                    Blue Dragon Desert Frost   \n",
       "6                                     OG Kush   \n",
       "7                                     Sherbet   \n",
       "8                                 White Widow   \n",
       "9                                   Chocolope   \n",
       "10                                  Tahoe OG    \n",
       "11  GG4 (fka Gorilla Glue #4) / Original Glue   \n",
       "12                                Green Crack   \n",
       "13                           Headlight Flower   \n",
       "14                      Marley Red™: CBD-Rich   \n",
       "15                                Messiah OG    \n",
       "16                             Orange Cookies   \n",
       "17                             Premium Flower   \n",
       "18                          Purple Trainwreck   \n",
       "19                              SAPPHIRE KUSH   \n",
       "\n",
       "                                2 product_image_links  \\\n",
       "0   https://ddd33q3967xhi.cloudfront.net/Nfnh_JRc3...   \n",
       "1   https://ddd33q3967xhi.cloudfront.net/YGZhU3fiL...   \n",
       "2   https://ddd33q3967xhi.cloudfront.net/1P0dBR0vw...   \n",
       "3   https://ddd33q3967xhi.cloudfront.net/zHOnHGVoa...   \n",
       "4   https://ddd33q3967xhi.cloudfront.net/PZVc0TR3s...   \n",
       "5   https://ddd33q3967xhi.cloudfront.net/yjA3O7XPs...   \n",
       "6   https://ddd33q3967xhi.cloudfront.net/OeD0LS5cx...   \n",
       "7   https://ddd33q3967xhi.cloudfront.net/9lWiooG4Q...   \n",
       "8   https://ddd33q3967xhi.cloudfront.net/hOjCHpxMG...   \n",
       "9   https://ddd33q3967xhi.cloudfront.net/ZwbdzjhTB...   \n",
       "10  https://ddd33q3967xhi.cloudfront.net/ywTOOYqZD...   \n",
       "11  https://ddd33q3967xhi.cloudfront.net/6XfGc3Nt0...   \n",
       "12  https://ddd33q3967xhi.cloudfront.net/FHz7-MJzx...   \n",
       "13  https://ddd33q3967xhi.cloudfront.net/57jdp7LXE...   \n",
       "14  https://ddd33q3967xhi.cloudfront.net/oka1MBytG...   \n",
       "15  https://ddd33q3967xhi.cloudfront.net/KH_2x6YO_...   \n",
       "16  https://ddd33q3967xhi.cloudfront.net/1xLLB_ql0...   \n",
       "17  https://ddd33q3967xhi.cloudfront.net/PkKObnbtl...   \n",
       "18  https://ddd33q3967xhi.cloudfront.net/6dHDGE9Hm...   \n",
       "19  https://ddd33q3967xhi.cloudfront.net/_byLzPR9z...   \n",
       "\n",
       "              3 product_brand  \n",
       "0               True Humboldt  \n",
       "1              GG Strains LLC  \n",
       "2              Marley Natural  \n",
       "3                      Dutchy  \n",
       "4             7 Points Oregon  \n",
       "5                 Yerba Buena  \n",
       "6             Pioneer Nuggets  \n",
       "7          Royal Tree Gardens  \n",
       "8             Pioneer Nuggets  \n",
       "9          Royal Tree Gardens  \n",
       "10                  Flow Kana  \n",
       "11             GG Strains LLC  \n",
       "12         Double Dutch Farms  \n",
       "13                  Headlight  \n",
       "14             Marley Natural  \n",
       "15      Glory Daze Botanicals  \n",
       "16  Subdued Excitement (SUBX)  \n",
       "17                     Avitas  \n",
       "18            Pioneer Nuggets  \n",
       "19          Northern Emeralds  "
      ]
     },
     "execution_count": 35,
     "metadata": {},
     "output_type": "execute_result"
    }
   ],
   "source": [
    "product_df\n"
   ]
  },
  {
   "cell_type": "code",
   "execution_count": 28,
   "metadata": {
    "collapsed": true
   },
   "outputs": [],
   "source": [
    "# product_df.to_csv('cannabis_products.csv')"
   ]
  },
  {
   "cell_type": "code",
   "execution_count": null,
   "metadata": {
    "collapsed": true
   },
   "outputs": [],
   "source": []
  }
 ],
 "metadata": {
  "kernelspec": {
   "display_name": "Python 2",
   "language": "python",
   "name": "python2"
  },
  "language_info": {
   "codemirror_mode": {
    "name": "ipython",
    "version": 2
   },
   "file_extension": ".py",
   "mimetype": "text/x-python",
   "name": "python",
   "nbconvert_exporter": "python",
   "pygments_lexer": "ipython2",
   "version": "2.7.14"
  }
 },
 "nbformat": 4,
 "nbformat_minor": 2
}

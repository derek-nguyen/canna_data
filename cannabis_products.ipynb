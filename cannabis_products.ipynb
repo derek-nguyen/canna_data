{
 "cells": [
  {
   "cell_type": "code",
   "execution_count": 3,
   "metadata": {
    "collapsed": true
   },
   "outputs": [],
   "source": [
    "import pandas as pd\n",
    "import csv\n",
    "from bs4 import BeautifulSoup\n",
    "import requests"
   ]
  },
  {
   "cell_type": "code",
   "execution_count": 4,
   "metadata": {
    "collapsed": true
   },
   "outputs": [],
   "source": [
    "url = 'https://www.leafly.com/products/cannabis/flower?page=1'\n",
    "brands = requests.get(url)\n",
    "soup = BeautifulSoup(brands.content, 'html.parser')"
   ]
  },
  {
   "cell_type": "code",
   "execution_count": 5,
   "metadata": {},
   "outputs": [],
   "source": [
    "product_containers = soup.find_all('a',{'class':'item'})"
   ]
  },
  {
   "cell_type": "code",
   "execution_count": 16,
   "metadata": {},
   "outputs": [
    {
     "data": {
      "text/plain": [
       "<a class=\"item item-col\" gtm-push=\"{'Model.slug': 'true-humboldt-gg', 'Model.name': 'GG (f.k.a. Gorilla Glue)'}\" href=\"/products/details/true-humboldt-gg\">\n",
       "<div class=\"item-thumbnail item-thumbnail-square\">\n",
       "<div class=\"item-thumbnail-centered\">\n",
       "<img alt=\"GG (f.k.a. Gorilla Glue)\" class=\"b-lazy\" data-src=\"https://ddd33q3967xhi.cloudfront.net/Nfnh_JRc3z7X7v57Opcus5EgUOc=/fit-in/300x300/https%3a%2f%2fddd33q3967xhi.cloudfront.net%2fpGNQ4Z1DfWe5NdUiOit0ugS4L10%3d%2ffit-in%2f400x400%2fhttps%253a%252f%252fs3.amazonaws.com%252fleafly-s3%252fproducts%252fphotos%252fRBXwuWRQQtWuQCp6e5LJ_AA-%2bgorilla%2bglue.jpg\" data-srcset=\"https://ddd33q3967xhi.cloudfront.net/Nfnh_JRc3z7X7v57Opcus5EgUOc=/fit-in/300x300/https%3a%2f%2fddd33q3967xhi.cloudfront.net%2fpGNQ4Z1DfWe5NdUiOit0ugS4L10%3d%2ffit-in%2f400x400%2fhttps%253a%252f%252fs3.amazonaws.com%252fleafly-s3%252fproducts%252fphotos%252fRBXwuWRQQtWuQCp6e5LJ_AA-%2bgorilla%2bglue.jpg 300w,\n",
       "                                                                                     https://ddd33q3967xhi.cloudfront.net/DcnVmQmvWCh51IoGXGwIVqxlX14=/fit-in/400x400/https%3a%2f%2fddd33q3967xhi.cloudfront.net%2fpGNQ4Z1DfWe5NdUiOit0ugS4L10%3d%2ffit-in%2f400x400%2fhttps%253a%252f%252fs3.amazonaws.com%252fleafly-s3%252fproducts%252fphotos%252fRBXwuWRQQtWuQCp6e5LJ_AA-%2bgorilla%2bglue.jpg 400w\" sizes=\"(min-width: 1025px) 250px, 50vw\" src=\"/content/images/brands/product-placeholder.svg\">\n",
       "</img></div>\n",
       "</div>\n",
       "<div class=\"item-name\">\n",
       "<div class=\"brand-name\">True Humboldt</div>\n",
       "<div class=\"product-name\">GG (f.k.a. Gorilla Glue)</div>\n",
       "<div class=\"product-rating\">\n",
       "<div class=\"star-rating\"><span class=\"squeeze\" size=\"15\" star-rating=\"4.38461538461539\"></span></div>\n",
       "<div class=\"star-rating-label\">4.4  |  13</div>\n",
       "</div>\n",
       "</div>\n",
       "</a>"
      ]
     },
     "execution_count": 16,
     "metadata": {},
     "output_type": "execute_result"
    }
   ],
   "source": [
    "first_product = product_containers[0]\n",
    "first_product"
   ]
  },
  {
   "cell_type": "code",
   "execution_count": 33,
   "metadata": {},
   "outputs": [],
   "source": [
    "# product name\n",
    "first_product_name = first_product.find('div', class_ = 'product-name')\n",
    "first_product_name = first_product_name.text"
   ]
  },
  {
   "cell_type": "code",
   "execution_count": null,
   "metadata": {
    "collapsed": true
   },
   "outputs": [],
   "source": [
    "# product image url"
   ]
  },
  {
   "cell_type": "code",
   "execution_count": 7,
   "metadata": {
    "collapsed": true
   },
   "outputs": [],
   "source": [
    "product_name = []\n",
    "product_image = []\n",
    "brand_name = []"
   ]
  },
  {
   "cell_type": "code",
   "execution_count": null,
   "metadata": {
    "collapsed": true
   },
   "outputs": [],
   "source": [
    "for container in product_containers:\n",
    "    name = "
   ]
  }
 ],
 "metadata": {
  "kernelspec": {
   "display_name": "Python 3",
   "language": "python",
   "name": "python3"
  },
  "language_info": {
   "codemirror_mode": {
    "name": "ipython",
    "version": 3
   },
   "file_extension": ".py",
   "mimetype": "text/x-python",
   "name": "python",
   "nbconvert_exporter": "python",
   "pygments_lexer": "ipython3",
   "version": "3.6.3"
  }
 },
 "nbformat": 4,
 "nbformat_minor": 2
}

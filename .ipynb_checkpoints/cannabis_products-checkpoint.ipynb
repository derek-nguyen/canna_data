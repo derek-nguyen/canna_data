{
 "cells": [
  {
   "cell_type": "code",
   "execution_count": 54,
   "metadata": {},
   "outputs": [],
   "source": [
    "import pandas as pd\n",
    "import csv\n",
    "from bs4 import BeautifulSoup\n",
    "import requests\n",
    "import IPython\n",
    "\n",
    "# adding these modules to slow down crawl-rate\n",
    "# prevents us from being banned\n",
    "from time import time, sleep\n",
    "from random import randint"
   ]
  },
  {
   "cell_type": "code",
   "execution_count": 4,
   "metadata": {},
   "outputs": [],
   "source": [
    "url = 'https://www.leafly.com/products/cannabis/flower?page=1'\n",
    "brands = requests.get(url)\n",
    "soup = BeautifulSoup(brands.content, 'html.parser')"
   ]
  },
  {
   "cell_type": "code",
   "execution_count": 5,
   "metadata": {
    "collapsed": true
   },
   "outputs": [],
   "source": [
    "product_containers = soup.find_all('a',{'class':'item'})"
   ]
  },
  {
   "cell_type": "code",
   "execution_count": 6,
   "metadata": {},
   "outputs": [
    {
     "data": {
      "text/plain": [
       "<a class=\"item item-col\" gtm-push=\"{'Model.slug': 'true-humboldt-gg', 'Model.name': 'GG (f.k.a. Gorilla Glue)'}\" href=\"/products/details/true-humboldt-gg\">\n",
       "<div class=\"item-thumbnail item-thumbnail-square\">\n",
       "<div class=\"item-thumbnail-centered\">\n",
       "<img alt=\"GG (f.k.a. Gorilla Glue)\" class=\"b-lazy\" data-src=\"https://ddd33q3967xhi.cloudfront.net/Nfnh_JRc3z7X7v57Opcus5EgUOc=/fit-in/300x300/https%3a%2f%2fddd33q3967xhi.cloudfront.net%2fpGNQ4Z1DfWe5NdUiOit0ugS4L10%3d%2ffit-in%2f400x400%2fhttps%253a%252f%252fs3.amazonaws.com%252fleafly-s3%252fproducts%252fphotos%252fRBXwuWRQQtWuQCp6e5LJ_AA-%2bgorilla%2bglue.jpg\" data-srcset=\"https://ddd33q3967xhi.cloudfront.net/Nfnh_JRc3z7X7v57Opcus5EgUOc=/fit-in/300x300/https%3a%2f%2fddd33q3967xhi.cloudfront.net%2fpGNQ4Z1DfWe5NdUiOit0ugS4L10%3d%2ffit-in%2f400x400%2fhttps%253a%252f%252fs3.amazonaws.com%252fleafly-s3%252fproducts%252fphotos%252fRBXwuWRQQtWuQCp6e5LJ_AA-%2bgorilla%2bglue.jpg 300w,\n",
       "                                                                                     https://ddd33q3967xhi.cloudfront.net/DcnVmQmvWCh51IoGXGwIVqxlX14=/fit-in/400x400/https%3a%2f%2fddd33q3967xhi.cloudfront.net%2fpGNQ4Z1DfWe5NdUiOit0ugS4L10%3d%2ffit-in%2f400x400%2fhttps%253a%252f%252fs3.amazonaws.com%252fleafly-s3%252fproducts%252fphotos%252fRBXwuWRQQtWuQCp6e5LJ_AA-%2bgorilla%2bglue.jpg 400w\" sizes=\"(min-width: 1025px) 250px, 50vw\" src=\"/content/images/brands/product-placeholder.svg\">\n",
       "</img></div>\n",
       "</div>\n",
       "<div class=\"item-name\">\n",
       "<div class=\"brand-name\">True Humboldt</div>\n",
       "<div class=\"product-name\">GG (f.k.a. Gorilla Glue)</div>\n",
       "<div class=\"product-rating\">\n",
       "<div class=\"star-rating\"><span class=\"squeeze\" size=\"15\" star-rating=\"4.38461538461539\"></span></div>\n",
       "<div class=\"star-rating-label\">4.4  |  13</div>\n",
       "</div>\n",
       "</div>\n",
       "</a>"
      ]
     },
     "execution_count": 6,
     "metadata": {},
     "output_type": "execute_result"
    }
   ],
   "source": [
    "first_product = product_containers[0]\n",
    "first_product"
   ]
  },
  {
   "cell_type": "code",
   "execution_count": 7,
   "metadata": {},
   "outputs": [
    {
     "data": {
      "text/plain": [
       "'GG (f.k.a. Gorilla Glue)'"
      ]
     },
     "execution_count": 7,
     "metadata": {},
     "output_type": "execute_result"
    }
   ],
   "source": [
    "# product name\n",
    "first_product_name = first_product.find('div', class_ = 'product-name').text\n",
    "first_product_name"
   ]
  },
  {
   "cell_type": "code",
   "execution_count": 8,
   "metadata": {},
   "outputs": [
    {
     "data": {
      "text/plain": [
       "'https://ddd33q3967xhi.cloudfront.net/Nfnh_JRc3z7X7v57Opcus5EgUOc=/fit-in/300x300/https%3a%2f%2fddd33q3967xhi.cloudfront.net%2fpGNQ4Z1DfWe5NdUiOit0ugS4L10%3d%2ffit-in%2f400x400%2fhttps%253a%252f%252fs3.amazonaws.com%252fleafly-s3%252fproducts%252fphotos%252fRBXwuWRQQtWuQCp6e5LJ_AA-%2bgorilla%2bglue.jpg'"
      ]
     },
     "execution_count": 8,
     "metadata": {},
     "output_type": "execute_result"
    }
   ],
   "source": [
    "# product image url\n",
    "\n",
    "first_image = first_product.find('img', attrs = {'class':'b-lazy'})['data-src']\n",
    "first_image"
   ]
  },
  {
   "cell_type": "code",
   "execution_count": 9,
   "metadata": {},
   "outputs": [
    {
     "data": {
      "text/plain": [
       "'True Humboldt'"
      ]
     },
     "execution_count": 9,
     "metadata": {},
     "output_type": "execute_result"
    }
   ],
   "source": [
    "# brand name\n",
    "first_brand = first_product.find('div', class_ = 'brand-name').text\n",
    "first_brand"
   ]
  },
  {
   "cell_type": "code",
   "execution_count": 10,
   "metadata": {
    "collapsed": true
   },
   "outputs": [],
   "source": [
    "product_name = []\n",
    "product_image = []\n",
    "brand_name = []"
   ]
  },
  {
   "cell_type": "code",
   "execution_count": 57,
   "metadata": {},
   "outputs": [
    {
     "ename": "NameError",
     "evalue": "name 'request' is not defined",
     "output_type": "error",
     "traceback": [
      "\u001b[1;31m---------------------------------------------------------------------------\u001b[0m",
      "\u001b[1;31mNameError\u001b[0m                                 Traceback (most recent call last)",
      "\u001b[1;32m<ipython-input-57-860a412f3b3e>\u001b[0m in \u001b[0;36m<module>\u001b[1;34m()\u001b[0m\n\u001b[0;32m      8\u001b[0m \u001b[1;32mfor\u001b[0m \u001b[0mpage\u001b[0m \u001b[1;32min\u001b[0m \u001b[0mpages\u001b[0m\u001b[1;33m:\u001b[0m\u001b[1;33m\u001b[0m\u001b[0m\n\u001b[0;32m      9\u001b[0m     \u001b[1;31m# make a get request\u001b[0m\u001b[1;33m\u001b[0m\u001b[1;33m\u001b[0m\u001b[0m\n\u001b[1;32m---> 10\u001b[1;33m     \u001b[0mresponse\u001b[0m \u001b[1;33m=\u001b[0m \u001b[0mrequest\u001b[0m\u001b[1;33m.\u001b[0m\u001b[0mget\u001b[0m\u001b[1;33m(\u001b[0m\u001b[1;34m'https://www.leafly.com/products/cannabis/flower?page='\u001b[0m \u001b[1;33m+\u001b[0m \u001b[0mpage\u001b[0m\u001b[1;33m)\u001b[0m\u001b[1;33m\u001b[0m\u001b[0m\n\u001b[0m\u001b[0;32m     11\u001b[0m \u001b[1;33m\u001b[0m\u001b[0m\n\u001b[0;32m     12\u001b[0m     \u001b[1;31m# pause the loop\u001b[0m\u001b[1;33m\u001b[0m\u001b[1;33m\u001b[0m\u001b[0m\n",
      "\u001b[1;31mNameError\u001b[0m: name 'request' is not defined"
     ]
    }
   ],
   "source": [
    "# scraping multiple pages\n",
    "# pages = [str(i) for i in range(1,5)]\n",
    "\n",
    "# controlling crawl-rate\n",
    "start_time = time()\n",
    "requests = 0\n",
    "\n",
    "for page in pages:\n",
    "    \n",
    "    # make a get request\n",
    "    response = request.get('https://www.leafly.com/products/cannabis/flower?page=' + page)\n",
    "    \n",
    "    # pause the loop\n",
    "    sleep(randint(8,15))\n",
    "    \n",
    "    # monitor requests\n",
    "    # shows how long it'll take to route to a page\n",
    "    # can use this value to determine how long it'll take to scrape all 45 pages \n",
    "    requests += 1 \n",
    "    elapsed_time = time() - start_time\n",
    "    print ('Request: {}; Frequency: {} requests/s'.format(requests, requests/elapsed_time))\n",
    "    IPython.display.clear_output(wait=True)\n",
    "    \n",
    "    # breaks a loop if requests > 45 pages\n",
    "    if requests > 45:\n",
    "        warn('Number of requests was greater than expected.')\n",
    "        break\n",
    "\n",
    "    # to grab all information of each single product\n",
    "    for container in product_containers:\n",
    "        name = container.find('div', class_ = 'product-name').text\n",
    "        product_name.append(name)\n",
    "\n",
    "        image = container.find('img', attrs = {'class':'b-lazy'})['data-src']\n",
    "        product_image.append(image)\n",
    "\n",
    "        brand = container.find('div', class_ = 'brand-name').text\n",
    "        brand_name.append(brand)"
   ]
  },
  {
   "cell_type": "code",
   "execution_count": 12,
   "metadata": {
    "collapsed": true
   },
   "outputs": [],
   "source": [
    "product_df = pd.DataFrame({ 'product_name':product_name,\n",
    "                            'product_image_links': product_image,\n",
    "                            'product_brand': brand_name\n",
    "                          })"
   ]
  },
  {
   "cell_type": "code",
   "execution_count": 16,
   "metadata": {},
   "outputs": [
    {
     "data": {
      "text/html": [
       "<div>\n",
       "<style>\n",
       "    .dataframe thead tr:only-child th {\n",
       "        text-align: right;\n",
       "    }\n",
       "\n",
       "    .dataframe thead th {\n",
       "        text-align: left;\n",
       "    }\n",
       "\n",
       "    .dataframe tbody tr th {\n",
       "        vertical-align: top;\n",
       "    }\n",
       "</style>\n",
       "<table border=\"1\" class=\"dataframe\">\n",
       "  <thead>\n",
       "    <tr style=\"text-align: right;\">\n",
       "      <th></th>\n",
       "      <th>product_brand</th>\n",
       "      <th>product_image_links</th>\n",
       "      <th>product_name</th>\n",
       "    </tr>\n",
       "  </thead>\n",
       "  <tbody>\n",
       "    <tr>\n",
       "      <th>0</th>\n",
       "      <td>True Humboldt</td>\n",
       "      <td>https://ddd33q3967xhi.cloudfront.net/Nfnh_JRc3...</td>\n",
       "      <td>GG (f.k.a. Gorilla Glue)</td>\n",
       "    </tr>\n",
       "    <tr>\n",
       "      <th>1</th>\n",
       "      <td>GG Strains LLC</td>\n",
       "      <td>https://ddd33q3967xhi.cloudfront.net/YGZhU3fiL...</td>\n",
       "      <td>GG5 (fka Gorilla Glue 5) / New Glue</td>\n",
       "    </tr>\n",
       "    <tr>\n",
       "      <th>2</th>\n",
       "      <td>Marley Natural</td>\n",
       "      <td>https://ddd33q3967xhi.cloudfront.net/1P0dBR0vw...</td>\n",
       "      <td>Marley Black™: Indica</td>\n",
       "    </tr>\n",
       "    <tr>\n",
       "      <th>3</th>\n",
       "      <td>Dutchy</td>\n",
       "      <td>https://ddd33q3967xhi.cloudfront.net/zHOnHGVoa...</td>\n",
       "      <td>Dutchy Flower</td>\n",
       "    </tr>\n",
       "    <tr>\n",
       "      <th>4</th>\n",
       "      <td>7 Points Oregon</td>\n",
       "      <td>https://ddd33q3967xhi.cloudfront.net/PZVc0TR3s...</td>\n",
       "      <td>Cherry Pie</td>\n",
       "    </tr>\n",
       "    <tr>\n",
       "      <th>5</th>\n",
       "      <td>Yerba Buena</td>\n",
       "      <td>https://ddd33q3967xhi.cloudfront.net/yjA3O7XPs...</td>\n",
       "      <td>Blue Dragon Desert Frost</td>\n",
       "    </tr>\n",
       "    <tr>\n",
       "      <th>6</th>\n",
       "      <td>Pioneer Nuggets</td>\n",
       "      <td>https://ddd33q3967xhi.cloudfront.net/OeD0LS5cx...</td>\n",
       "      <td>OG Kush</td>\n",
       "    </tr>\n",
       "    <tr>\n",
       "      <th>7</th>\n",
       "      <td>Royal Tree Gardens</td>\n",
       "      <td>https://ddd33q3967xhi.cloudfront.net/9lWiooG4Q...</td>\n",
       "      <td>Sherbet</td>\n",
       "    </tr>\n",
       "    <tr>\n",
       "      <th>8</th>\n",
       "      <td>Pioneer Nuggets</td>\n",
       "      <td>https://ddd33q3967xhi.cloudfront.net/hOjCHpxMG...</td>\n",
       "      <td>White Widow</td>\n",
       "    </tr>\n",
       "    <tr>\n",
       "      <th>9</th>\n",
       "      <td>Royal Tree Gardens</td>\n",
       "      <td>https://ddd33q3967xhi.cloudfront.net/ZwbdzjhTB...</td>\n",
       "      <td>Chocolope</td>\n",
       "    </tr>\n",
       "    <tr>\n",
       "      <th>10</th>\n",
       "      <td>Flow Kana</td>\n",
       "      <td>https://ddd33q3967xhi.cloudfront.net/ywTOOYqZD...</td>\n",
       "      <td>Tahoe OG</td>\n",
       "    </tr>\n",
       "    <tr>\n",
       "      <th>11</th>\n",
       "      <td>GG Strains LLC</td>\n",
       "      <td>https://ddd33q3967xhi.cloudfront.net/6XfGc3Nt0...</td>\n",
       "      <td>GG4 (fka Gorilla Glue #4) / Original Glue</td>\n",
       "    </tr>\n",
       "    <tr>\n",
       "      <th>12</th>\n",
       "      <td>Double Dutch Farms</td>\n",
       "      <td>https://ddd33q3967xhi.cloudfront.net/FHz7-MJzx...</td>\n",
       "      <td>Green Crack</td>\n",
       "    </tr>\n",
       "    <tr>\n",
       "      <th>13</th>\n",
       "      <td>Headlight</td>\n",
       "      <td>https://ddd33q3967xhi.cloudfront.net/57jdp7LXE...</td>\n",
       "      <td>Headlight Flower</td>\n",
       "    </tr>\n",
       "    <tr>\n",
       "      <th>14</th>\n",
       "      <td>Marley Natural</td>\n",
       "      <td>https://ddd33q3967xhi.cloudfront.net/oka1MBytG...</td>\n",
       "      <td>Marley Red™: CBD-Rich</td>\n",
       "    </tr>\n",
       "    <tr>\n",
       "      <th>15</th>\n",
       "      <td>Glory Daze Botanicals</td>\n",
       "      <td>https://ddd33q3967xhi.cloudfront.net/KH_2x6YO_...</td>\n",
       "      <td>Messiah OG</td>\n",
       "    </tr>\n",
       "    <tr>\n",
       "      <th>16</th>\n",
       "      <td>Subdued Excitement (SUBX)</td>\n",
       "      <td>https://ddd33q3967xhi.cloudfront.net/1xLLB_ql0...</td>\n",
       "      <td>Orange Cookies</td>\n",
       "    </tr>\n",
       "    <tr>\n",
       "      <th>17</th>\n",
       "      <td>Avitas</td>\n",
       "      <td>https://ddd33q3967xhi.cloudfront.net/PkKObnbtl...</td>\n",
       "      <td>Premium Flower</td>\n",
       "    </tr>\n",
       "    <tr>\n",
       "      <th>18</th>\n",
       "      <td>Pioneer Nuggets</td>\n",
       "      <td>https://ddd33q3967xhi.cloudfront.net/6dHDGE9Hm...</td>\n",
       "      <td>Purple Trainwreck</td>\n",
       "    </tr>\n",
       "    <tr>\n",
       "      <th>19</th>\n",
       "      <td>Northern Emeralds</td>\n",
       "      <td>https://ddd33q3967xhi.cloudfront.net/_byLzPR9z...</td>\n",
       "      <td>SAPPHIRE KUSH</td>\n",
       "    </tr>\n",
       "  </tbody>\n",
       "</table>\n",
       "</div>"
      ],
      "text/plain": [
       "                product_brand  \\\n",
       "0               True Humboldt   \n",
       "1              GG Strains LLC   \n",
       "2              Marley Natural   \n",
       "3                      Dutchy   \n",
       "4             7 Points Oregon   \n",
       "5                 Yerba Buena   \n",
       "6             Pioneer Nuggets   \n",
       "7          Royal Tree Gardens   \n",
       "8             Pioneer Nuggets   \n",
       "9          Royal Tree Gardens   \n",
       "10                  Flow Kana   \n",
       "11             GG Strains LLC   \n",
       "12         Double Dutch Farms   \n",
       "13                  Headlight   \n",
       "14             Marley Natural   \n",
       "15      Glory Daze Botanicals   \n",
       "16  Subdued Excitement (SUBX)   \n",
       "17                     Avitas   \n",
       "18            Pioneer Nuggets   \n",
       "19          Northern Emeralds   \n",
       "\n",
       "                                  product_image_links  \\\n",
       "0   https://ddd33q3967xhi.cloudfront.net/Nfnh_JRc3...   \n",
       "1   https://ddd33q3967xhi.cloudfront.net/YGZhU3fiL...   \n",
       "2   https://ddd33q3967xhi.cloudfront.net/1P0dBR0vw...   \n",
       "3   https://ddd33q3967xhi.cloudfront.net/zHOnHGVoa...   \n",
       "4   https://ddd33q3967xhi.cloudfront.net/PZVc0TR3s...   \n",
       "5   https://ddd33q3967xhi.cloudfront.net/yjA3O7XPs...   \n",
       "6   https://ddd33q3967xhi.cloudfront.net/OeD0LS5cx...   \n",
       "7   https://ddd33q3967xhi.cloudfront.net/9lWiooG4Q...   \n",
       "8   https://ddd33q3967xhi.cloudfront.net/hOjCHpxMG...   \n",
       "9   https://ddd33q3967xhi.cloudfront.net/ZwbdzjhTB...   \n",
       "10  https://ddd33q3967xhi.cloudfront.net/ywTOOYqZD...   \n",
       "11  https://ddd33q3967xhi.cloudfront.net/6XfGc3Nt0...   \n",
       "12  https://ddd33q3967xhi.cloudfront.net/FHz7-MJzx...   \n",
       "13  https://ddd33q3967xhi.cloudfront.net/57jdp7LXE...   \n",
       "14  https://ddd33q3967xhi.cloudfront.net/oka1MBytG...   \n",
       "15  https://ddd33q3967xhi.cloudfront.net/KH_2x6YO_...   \n",
       "16  https://ddd33q3967xhi.cloudfront.net/1xLLB_ql0...   \n",
       "17  https://ddd33q3967xhi.cloudfront.net/PkKObnbtl...   \n",
       "18  https://ddd33q3967xhi.cloudfront.net/6dHDGE9Hm...   \n",
       "19  https://ddd33q3967xhi.cloudfront.net/_byLzPR9z...   \n",
       "\n",
       "                                 product_name  \n",
       "0                    GG (f.k.a. Gorilla Glue)  \n",
       "1         GG5 (fka Gorilla Glue 5) / New Glue  \n",
       "2                       Marley Black™: Indica  \n",
       "3                               Dutchy Flower  \n",
       "4                                  Cherry Pie  \n",
       "5                    Blue Dragon Desert Frost  \n",
       "6                                     OG Kush  \n",
       "7                                     Sherbet  \n",
       "8                                 White Widow  \n",
       "9                                   Chocolope  \n",
       "10                                  Tahoe OG   \n",
       "11  GG4 (fka Gorilla Glue #4) / Original Glue  \n",
       "12                                Green Crack  \n",
       "13                           Headlight Flower  \n",
       "14                      Marley Red™: CBD-Rich  \n",
       "15                                Messiah OG   \n",
       "16                             Orange Cookies  \n",
       "17                             Premium Flower  \n",
       "18                          Purple Trainwreck  \n",
       "19                              SAPPHIRE KUSH  "
      ]
     },
     "execution_count": 16,
     "metadata": {},
     "output_type": "execute_result"
    }
   ],
   "source": [
    "product_df"
   ]
  },
  {
   "cell_type": "code",
   "execution_count": null,
   "metadata": {
    "collapsed": true
   },
   "outputs": [],
   "source": []
  }
 ],
 "metadata": {
  "kernelspec": {
   "display_name": "Python 3",
   "language": "python",
   "name": "python3"
  },
  "language_info": {
   "codemirror_mode": {
    "name": "ipython",
    "version": 3
   },
   "file_extension": ".py",
   "mimetype": "text/x-python",
   "name": "python",
   "nbconvert_exporter": "python",
   "pygments_lexer": "ipython3",
   "version": "3.6.3"
  }
 },
 "nbformat": 4,
 "nbformat_minor": 2
}

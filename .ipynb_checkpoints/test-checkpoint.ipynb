{
 "cells": [
  {
   "cell_type": "code",
   "execution_count": 14,
   "metadata": {
    "collapsed": true
   },
   "outputs": [],
   "source": [
    "import pandas as pd\n",
    "import csv\n",
    "from bs4 import BeautifulSoup\n",
    "import requests\n",
    "import IPython\n",
    "\n",
    "# adding these modules to slow down crawl-rate\n",
    "# prevents us from being banned\n",
    "from time import time, sleep\n",
    "from random import randint"
   ]
  },
  {
   "cell_type": "code",
   "execution_count": 15,
   "metadata": {
    "collapsed": true
   },
   "outputs": [],
   "source": [
    "product_name = []\n",
    "product_image = []\n",
    "# product_short_description = []\n",
    "# brand_name = []\n",
    "# brand_description = []"
   ]
  },
  {
   "cell_type": "code",
   "execution_count": 21,
   "metadata": {},
   "outputs": [
    {
     "ename": "TypeError",
     "evalue": "'NoneType' object is not subscriptable",
     "output_type": "error",
     "traceback": [
      "\u001b[1;31m---------------------------------------------------------------------------\u001b[0m",
      "\u001b[1;31mTypeError\u001b[0m                                 Traceback (most recent call last)",
      "\u001b[1;32m<ipython-input-21-824c959813ff>\u001b[0m in \u001b[0;36m<module>\u001b[1;34m()\u001b[0m\n\u001b[0;32m     16\u001b[0m         \u001b[0mproduct_image\u001b[0m\u001b[1;33m.\u001b[0m\u001b[0mappend\u001b[0m\u001b[1;33m(\u001b[0m\u001b[0mimage\u001b[0m\u001b[1;33m)\u001b[0m\u001b[1;33m\u001b[0m\u001b[0m\n\u001b[0;32m     17\u001b[0m \u001b[1;33m\u001b[0m\u001b[0m\n\u001b[1;32m---> 18\u001b[1;33m         \u001b[0mhref\u001b[0m \u001b[1;33m=\u001b[0m \u001b[0mcontainer\u001b[0m\u001b[1;33m.\u001b[0m\u001b[0mfind\u001b[0m\u001b[1;33m(\u001b[0m\u001b[1;34m'a'\u001b[0m\u001b[1;33m,\u001b[0m \u001b[0mattrs\u001b[0m \u001b[1;33m=\u001b[0m \u001b[1;33m{\u001b[0m\u001b[1;34m'class'\u001b[0m\u001b[1;33m:\u001b[0m\u001b[1;34m'item'\u001b[0m\u001b[1;33m}\u001b[0m\u001b[1;33m)\u001b[0m\u001b[1;33m[\u001b[0m\u001b[1;34m'href'\u001b[0m\u001b[1;33m]\u001b[0m\u001b[1;33m\u001b[0m\u001b[0m\n\u001b[0m\u001b[0;32m     19\u001b[0m         \u001b[0mproduct_href\u001b[0m\u001b[1;33m.\u001b[0m\u001b[0mappend\u001b[0m\u001b[1;33m(\u001b[0m\u001b[0mhref\u001b[0m\u001b[1;33m)\u001b[0m\u001b[1;33m\u001b[0m\u001b[0m\n\u001b[0;32m     20\u001b[0m \u001b[1;33m\u001b[0m\u001b[0m\n",
      "\u001b[1;31mTypeError\u001b[0m: 'NoneType' object is not subscriptable"
     ]
    }
   ],
   "source": [
    "# store href to reference\n",
    "product_href = []\n",
    "\n",
    "pages = [str(i) for i in range(1,2)]\n",
    "\n",
    "for page in pages:\n",
    "    response = requests.get('https://www.leafly.com/products/cannabis/flower?page=' + page)\n",
    "    soup = BeautifulSoup(response.text, 'html.parser')\n",
    "    product_containers = soup.find_all('a',{'class':'item'})\n",
    "\n",
    "    for container in product_containers:\n",
    "        name = container.find('div', class_ = 'product-name').text\n",
    "        product_name.append(name)\n",
    "\n",
    "        image = container.find('img', attrs = {'class':'b-lazy'})['data-src']\n",
    "        product_image.append(image)\n",
    "        \n",
    "        href = container.find('a', attrs = {'class':'item'})['href']\n",
    "        product_href.append(href)\n",
    "        \n",
    "#         for product_url in product_detail_container:\n",
    "#             response_detail = requests.get('https://www.leafly.com', + href)\n",
    "#             soup = BeautifulSoup(response_detail.text, 'html.parser')\n",
    "\n",
    "\n",
    "\n",
    "# url = 'https://www.leafly.com/products/details/true-humboldt-ggfirst_image = first_product.find('img', attrs = {'class':'b-lazy'})\n",
    "# first_image['data-src']'\n",
    "# details = requests.get(url)\n",
    "# soup_detail = BeautifulSoup(details.content, 'html.parser')\n",
    "\n",
    "# product_detail_container = soup_detail.find_all()\n",
    "# first_product_detail = product_detail_container[0]\n",
    "# first_product_short_description = first_product_detail.find('p', class_ = \"product-short-description\")\n",
    "# first_product_short_description.text\n",
    "\n",
    "# first_product_description.text\n",
    "\n",
    "# first_brand_name = first_product_detail.find('p', class_ = 'brand-name').a.text\n",
    "# first_brand_name\n",
    "\n",
    "# first_brand_description = first_product_detail.find('p', class_ = 'brand-description').text\n",
    "# first_brand_description\n",
    "\n",
    "# first_brand_image = first_product_detail.find('img',{'class':'b-lazy'})['data-src']\n",
    "# first_brand_image\n",
    "\n",
    "product_detail_df = pd.DataFrame ({\n",
    "    '1 Product Name' : product_name,\n",
    "    '2 Product Image' : product_image,\n",
    "#     '3 Short Description' : [first_product_short_description.text],\n",
    "#     '4 Product Description' : [first_product_description.text],\n",
    "#     '5 Brand Name' : [first_brand_name],\n",
    "#     '6 Brand Description' : [first_brand_description]\n",
    "})"
   ]
  },
  {
   "cell_type": "code",
   "execution_count": 41,
   "metadata": {},
   "outputs": [],
   "source": [
    "test = product_containers = soup.find('a',{'class':'item'})"
   ]
  },
  {
   "cell_type": "code",
   "execution_count": 54,
   "metadata": {},
   "outputs": [
    {
     "data": {
      "text/plain": [
       "'/products/details/true-humboldt-gg'"
      ]
     },
     "execution_count": 54,
     "metadata": {},
     "output_type": "execute_result"
    }
   ],
   "source": [
    "test['href']"
   ]
  },
  {
   "cell_type": "code",
   "execution_count": null,
   "metadata": {
    "collapsed": true
   },
   "outputs": [],
   "source": []
  }
 ],
 "metadata": {
  "kernelspec": {
   "display_name": "Python 3",
   "language": "python",
   "name": "python3"
  },
  "language_info": {
   "codemirror_mode": {
    "name": "ipython",
    "version": 3
   },
   "file_extension": ".py",
   "mimetype": "text/x-python",
   "name": "python",
   "nbconvert_exporter": "python",
   "pygments_lexer": "ipython3",
   "version": "3.6.3"
  }
 },
 "nbformat": 4,
 "nbformat_minor": 2
}
